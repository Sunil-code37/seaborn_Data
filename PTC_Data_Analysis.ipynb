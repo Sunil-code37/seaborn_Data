{
 "cells": [
  {
   "cell_type": "markdown",
   "id": "heated-teacher",
   "metadata": {},
   "source": [
    "Olympic Data Assignment"
   ]
  },
  {
   "cell_type": "markdown",
   "id": "secure-julian",
   "metadata": {},
   "source": [
    "Create a new jupyter notebook and load the sample dataset into a dataframe (skip the first 4 rows)\n"
   ]
  },
  {
   "cell_type": "code",
   "execution_count": 1,
   "id": "atomic-astronomy",
   "metadata": {},
   "outputs": [
    {
     "data": {
      "text/html": [
       "<div>\n",
       "<style scoped>\n",
       "    .dataframe tbody tr th:only-of-type {\n",
       "        vertical-align: middle;\n",
       "    }\n",
       "\n",
       "    .dataframe tbody tr th {\n",
       "        vertical-align: top;\n",
       "    }\n",
       "\n",
       "    .dataframe thead th {\n",
       "        text-align: right;\n",
       "    }\n",
       "</style>\n",
       "<table border=\"1\" class=\"dataframe\">\n",
       "  <thead>\n",
       "    <tr style=\"text-align: right;\">\n",
       "      <th></th>\n",
       "      <th>City</th>\n",
       "      <th>Edition</th>\n",
       "      <th>Sport</th>\n",
       "      <th>Discipline</th>\n",
       "      <th>Athlete</th>\n",
       "      <th>NOC</th>\n",
       "      <th>Gender</th>\n",
       "      <th>Event</th>\n",
       "      <th>Event_gender</th>\n",
       "      <th>Medal</th>\n",
       "    </tr>\n",
       "  </thead>\n",
       "  <tbody>\n",
       "    <tr>\n",
       "      <th>0</th>\n",
       "      <td>Athens</td>\n",
       "      <td>1896</td>\n",
       "      <td>Aquatics</td>\n",
       "      <td>Swimming</td>\n",
       "      <td>HAJOS, Alfred</td>\n",
       "      <td>HUN</td>\n",
       "      <td>Men</td>\n",
       "      <td>100m freestyle</td>\n",
       "      <td>M</td>\n",
       "      <td>Gold</td>\n",
       "    </tr>\n",
       "    <tr>\n",
       "      <th>1</th>\n",
       "      <td>Athens</td>\n",
       "      <td>1896</td>\n",
       "      <td>Aquatics</td>\n",
       "      <td>Swimming</td>\n",
       "      <td>HERSCHMANN, Otto</td>\n",
       "      <td>AUT</td>\n",
       "      <td>Men</td>\n",
       "      <td>100m freestyle</td>\n",
       "      <td>M</td>\n",
       "      <td>Silver</td>\n",
       "    </tr>\n",
       "    <tr>\n",
       "      <th>2</th>\n",
       "      <td>Athens</td>\n",
       "      <td>1896</td>\n",
       "      <td>Aquatics</td>\n",
       "      <td>Swimming</td>\n",
       "      <td>DRIVAS, Dimitrios</td>\n",
       "      <td>GRE</td>\n",
       "      <td>Men</td>\n",
       "      <td>100m freestyle for sailors</td>\n",
       "      <td>M</td>\n",
       "      <td>Bronze</td>\n",
       "    </tr>\n",
       "    <tr>\n",
       "      <th>3</th>\n",
       "      <td>Athens</td>\n",
       "      <td>1896</td>\n",
       "      <td>Aquatics</td>\n",
       "      <td>Swimming</td>\n",
       "      <td>MALOKINIS, Ioannis</td>\n",
       "      <td>GRE</td>\n",
       "      <td>Men</td>\n",
       "      <td>100m freestyle for sailors</td>\n",
       "      <td>M</td>\n",
       "      <td>Gold</td>\n",
       "    </tr>\n",
       "    <tr>\n",
       "      <th>4</th>\n",
       "      <td>Athens</td>\n",
       "      <td>1896</td>\n",
       "      <td>Aquatics</td>\n",
       "      <td>Swimming</td>\n",
       "      <td>CHASAPIS, Spiridon</td>\n",
       "      <td>GRE</td>\n",
       "      <td>Men</td>\n",
       "      <td>100m freestyle for sailors</td>\n",
       "      <td>M</td>\n",
       "      <td>Silver</td>\n",
       "    </tr>\n",
       "  </tbody>\n",
       "</table>\n",
       "</div>"
      ],
      "text/plain": [
       "     City  Edition     Sport Discipline             Athlete  NOC Gender  \\\n",
       "0  Athens     1896  Aquatics   Swimming       HAJOS, Alfred  HUN    Men   \n",
       "1  Athens     1896  Aquatics   Swimming    HERSCHMANN, Otto  AUT    Men   \n",
       "2  Athens     1896  Aquatics   Swimming   DRIVAS, Dimitrios  GRE    Men   \n",
       "3  Athens     1896  Aquatics   Swimming  MALOKINIS, Ioannis  GRE    Men   \n",
       "4  Athens     1896  Aquatics   Swimming  CHASAPIS, Spiridon  GRE    Men   \n",
       "\n",
       "                        Event Event_gender   Medal  \n",
       "0              100m freestyle            M    Gold  \n",
       "1              100m freestyle            M  Silver  \n",
       "2  100m freestyle for sailors            M  Bronze  \n",
       "3  100m freestyle for sailors            M    Gold  \n",
       "4  100m freestyle for sailors            M  Silver  "
      ]
     },
     "execution_count": 1,
     "metadata": {},
     "output_type": "execute_result"
    }
   ],
   "source": [
    "import pandas as pd #import library\n",
    "df = pd.read_csv('C:/Users/User/Desktop/olympics.csv',skiprows=4) # Read cvs file in pandas by skipping first 4 rows\n",
    "df.head() #display output"
   ]
  },
  {
   "cell_type": "markdown",
   "id": "antique-destiny",
   "metadata": {},
   "source": [
    "Details about the object\n",
    "1. What kind of object is created? - Dataframe object\n",
    "2. How many entries? - 29216 entries\n",
    "3. How many columns? - 10 columns\n",
    "4. What type of data in each column? - int64(1), object(9)\n",
    "5. What kind of object is a column? - Series object "
   ]
  },
  {
   "cell_type": "code",
   "execution_count": 2,
   "id": "nearby-sustainability",
   "metadata": {},
   "outputs": [
    {
     "name": "stdout",
     "output_type": "stream",
     "text": [
      "<class 'pandas.core.frame.DataFrame'>\n",
      "RangeIndex: 29216 entries, 0 to 29215\n",
      "Data columns (total 10 columns):\n",
      " #   Column        Non-Null Count  Dtype \n",
      "---  ------        --------------  ----- \n",
      " 0   City          29216 non-null  object\n",
      " 1   Edition       29216 non-null  int64 \n",
      " 2   Sport         29216 non-null  object\n",
      " 3   Discipline    29216 non-null  object\n",
      " 4   Athlete       29216 non-null  object\n",
      " 5   NOC           29216 non-null  object\n",
      " 6   Gender        29216 non-null  object\n",
      " 7   Event         29216 non-null  object\n",
      " 8   Event_gender  29216 non-null  object\n",
      " 9   Medal         29216 non-null  object\n",
      "dtypes: int64(1), object(9)\n",
      "memory usage: 2.2+ MB\n"
     ]
    }
   ],
   "source": [
    "df.info() #information of the data"
   ]
  },
  {
   "cell_type": "code",
   "execution_count": 3,
   "id": "refined-level",
   "metadata": {},
   "outputs": [
    {
     "data": {
      "text/plain": [
       "pandas.core.series.Series"
      ]
     },
     "execution_count": 3,
     "metadata": {},
     "output_type": "execute_result"
    }
   ],
   "source": [
    "type(df['City']) # type of the column "
   ]
  },
  {
   "cell_type": "markdown",
   "id": "casual-origin",
   "metadata": {},
   "source": [
    "What are the unique values in a particular column (e.g. the Medal column)? - There are 3 unique values for Medal column i.e. Gold, Silver and Bronze"
   ]
  },
  {
   "cell_type": "code",
   "execution_count": 4,
   "id": "bizarre-toronto",
   "metadata": {},
   "outputs": [
    {
     "name": "stdout",
     "output_type": "stream",
     "text": [
      "3\n"
     ]
    },
    {
     "data": {
      "text/plain": [
       "array(['Gold', 'Silver', 'Bronze'], dtype=object)"
      ]
     },
     "execution_count": 4,
     "metadata": {},
     "output_type": "execute_result"
    }
   ],
   "source": [
    "print(len(df['Medal'].unique())) # count of rows \n",
    "df['Medal'].unique() # disply the unique values"
   ]
  },
  {
   "cell_type": "code",
   "execution_count": 5,
   "id": "metric-familiar",
   "metadata": {},
   "outputs": [
    {
     "data": {
      "text/plain": [
       "Medal \n",
       "Gold      9850\n",
       "Bronze    9689\n",
       "Silver    9677\n",
       "dtype: int64"
      ]
     },
     "execution_count": 5,
     "metadata": {},
     "output_type": "execute_result"
    }
   ],
   "source": [
    "medal_names = df[['Medal']] # Select the 'Medal' column \n",
    "medal_counts = medal_names.value_counts() # Count the number of medals\n",
    "medal_counts.head() # display the result"
   ]
  },
  {
   "cell_type": "markdown",
   "id": "level-cookbook",
   "metadata": {},
   "source": [
    "How would you go about listing entries from several columns (e.g. Discipline, Athlete, Event and Medal)?\n",
    "Created a Dataframe list for Discipline, Athlete, Event and Medal and stored in multiple columns"
   ]
  },
  {
   "cell_type": "code",
   "execution_count": 6,
   "id": "continent-albany",
   "metadata": {},
   "outputs": [
    {
     "data": {
      "text/html": [
       "<div>\n",
       "<style scoped>\n",
       "    .dataframe tbody tr th:only-of-type {\n",
       "        vertical-align: middle;\n",
       "    }\n",
       "\n",
       "    .dataframe tbody tr th {\n",
       "        vertical-align: top;\n",
       "    }\n",
       "\n",
       "    .dataframe thead th {\n",
       "        text-align: right;\n",
       "    }\n",
       "</style>\n",
       "<table border=\"1\" class=\"dataframe\">\n",
       "  <thead>\n",
       "    <tr style=\"text-align: right;\">\n",
       "      <th></th>\n",
       "      <th>Discipline</th>\n",
       "      <th>Athlete</th>\n",
       "      <th>Event</th>\n",
       "      <th>Medal</th>\n",
       "    </tr>\n",
       "  </thead>\n",
       "  <tbody>\n",
       "    <tr>\n",
       "      <th>0</th>\n",
       "      <td>Swimming</td>\n",
       "      <td>HAJOS, Alfred</td>\n",
       "      <td>100m freestyle</td>\n",
       "      <td>Gold</td>\n",
       "    </tr>\n",
       "    <tr>\n",
       "      <th>1</th>\n",
       "      <td>Swimming</td>\n",
       "      <td>HERSCHMANN, Otto</td>\n",
       "      <td>100m freestyle</td>\n",
       "      <td>Silver</td>\n",
       "    </tr>\n",
       "    <tr>\n",
       "      <th>2</th>\n",
       "      <td>Swimming</td>\n",
       "      <td>DRIVAS, Dimitrios</td>\n",
       "      <td>100m freestyle for sailors</td>\n",
       "      <td>Bronze</td>\n",
       "    </tr>\n",
       "    <tr>\n",
       "      <th>3</th>\n",
       "      <td>Swimming</td>\n",
       "      <td>MALOKINIS, Ioannis</td>\n",
       "      <td>100m freestyle for sailors</td>\n",
       "      <td>Gold</td>\n",
       "    </tr>\n",
       "    <tr>\n",
       "      <th>4</th>\n",
       "      <td>Swimming</td>\n",
       "      <td>CHASAPIS, Spiridon</td>\n",
       "      <td>100m freestyle for sailors</td>\n",
       "      <td>Silver</td>\n",
       "    </tr>\n",
       "    <tr>\n",
       "      <th>...</th>\n",
       "      <td>...</td>\n",
       "      <td>...</td>\n",
       "      <td>...</td>\n",
       "      <td>...</td>\n",
       "    </tr>\n",
       "    <tr>\n",
       "      <th>29211</th>\n",
       "      <td>Wrestling Gre-R</td>\n",
       "      <td>ENGLICH, Mirko</td>\n",
       "      <td>84 - 96kg</td>\n",
       "      <td>Silver</td>\n",
       "    </tr>\n",
       "    <tr>\n",
       "      <th>29212</th>\n",
       "      <td>Wrestling Gre-R</td>\n",
       "      <td>MIZGAITIS, Mindaugas</td>\n",
       "      <td>96 - 120kg</td>\n",
       "      <td>Bronze</td>\n",
       "    </tr>\n",
       "    <tr>\n",
       "      <th>29213</th>\n",
       "      <td>Wrestling Gre-R</td>\n",
       "      <td>PATRIKEEV, Yuri</td>\n",
       "      <td>96 - 120kg</td>\n",
       "      <td>Bronze</td>\n",
       "    </tr>\n",
       "    <tr>\n",
       "      <th>29214</th>\n",
       "      <td>Wrestling Gre-R</td>\n",
       "      <td>LOPEZ, Mijain</td>\n",
       "      <td>96 - 120kg</td>\n",
       "      <td>Gold</td>\n",
       "    </tr>\n",
       "    <tr>\n",
       "      <th>29215</th>\n",
       "      <td>Wrestling Gre-R</td>\n",
       "      <td>BAROEV, Khasan</td>\n",
       "      <td>96 - 120kg</td>\n",
       "      <td>Silver</td>\n",
       "    </tr>\n",
       "  </tbody>\n",
       "</table>\n",
       "<p>29216 rows × 4 columns</p>\n",
       "</div>"
      ],
      "text/plain": [
       "            Discipline               Athlete                       Event  \\\n",
       "0             Swimming         HAJOS, Alfred              100m freestyle   \n",
       "1             Swimming      HERSCHMANN, Otto              100m freestyle   \n",
       "2             Swimming     DRIVAS, Dimitrios  100m freestyle for sailors   \n",
       "3             Swimming    MALOKINIS, Ioannis  100m freestyle for sailors   \n",
       "4             Swimming    CHASAPIS, Spiridon  100m freestyle for sailors   \n",
       "...                ...                   ...                         ...   \n",
       "29211  Wrestling Gre-R        ENGLICH, Mirko                   84 - 96kg   \n",
       "29212  Wrestling Gre-R  MIZGAITIS, Mindaugas                  96 - 120kg   \n",
       "29213  Wrestling Gre-R       PATRIKEEV, Yuri                  96 - 120kg   \n",
       "29214  Wrestling Gre-R         LOPEZ, Mijain                  96 - 120kg   \n",
       "29215  Wrestling Gre-R        BAROEV, Khasan                  96 - 120kg   \n",
       "\n",
       "        Medal  \n",
       "0        Gold  \n",
       "1      Silver  \n",
       "2      Bronze  \n",
       "3        Gold  \n",
       "4      Silver  \n",
       "...       ...  \n",
       "29211  Silver  \n",
       "29212  Bronze  \n",
       "29213  Bronze  \n",
       "29214    Gold  \n",
       "29215  Silver  \n",
       "\n",
       "[29216 rows x 4 columns]"
      ]
     },
     "execution_count": 6,
     "metadata": {},
     "output_type": "execute_result"
    }
   ],
   "source": [
    "Multiple_columns = df[['Discipline','Athlete','Event','Medal']] #selection of columns\n",
    "Multiple_columns #display the result"
   ]
  },
  {
   "cell_type": "markdown",
   "id": "demonstrated-substance",
   "metadata": {},
   "source": [
    "How would you go about listing entries from several columns (e.g. Discipline, Athlete, Event and Medal) and where Medal=Gold?\n",
    "I have used mutiples_columns and filtered for only those whose Medal = Gold"
   ]
  },
  {
   "cell_type": "code",
   "execution_count": 7,
   "id": "labeled-stress",
   "metadata": {},
   "outputs": [
    {
     "data": {
      "text/html": [
       "<div>\n",
       "<style scoped>\n",
       "    .dataframe tbody tr th:only-of-type {\n",
       "        vertical-align: middle;\n",
       "    }\n",
       "\n",
       "    .dataframe tbody tr th {\n",
       "        vertical-align: top;\n",
       "    }\n",
       "\n",
       "    .dataframe thead th {\n",
       "        text-align: right;\n",
       "    }\n",
       "</style>\n",
       "<table border=\"1\" class=\"dataframe\">\n",
       "  <thead>\n",
       "    <tr style=\"text-align: right;\">\n",
       "      <th></th>\n",
       "      <th>Discipline</th>\n",
       "      <th>Athlete</th>\n",
       "      <th>Event</th>\n",
       "      <th>Medal</th>\n",
       "    </tr>\n",
       "  </thead>\n",
       "  <tbody>\n",
       "    <tr>\n",
       "      <th>0</th>\n",
       "      <td>Swimming</td>\n",
       "      <td>HAJOS, Alfred</td>\n",
       "      <td>100m freestyle</td>\n",
       "      <td>Gold</td>\n",
       "    </tr>\n",
       "    <tr>\n",
       "      <th>3</th>\n",
       "      <td>Swimming</td>\n",
       "      <td>MALOKINIS, Ioannis</td>\n",
       "      <td>100m freestyle for sailors</td>\n",
       "      <td>Gold</td>\n",
       "    </tr>\n",
       "    <tr>\n",
       "      <th>6</th>\n",
       "      <td>Swimming</td>\n",
       "      <td>HAJOS, Alfred</td>\n",
       "      <td>1200m freestyle</td>\n",
       "      <td>Gold</td>\n",
       "    </tr>\n",
       "    <tr>\n",
       "      <th>9</th>\n",
       "      <td>Swimming</td>\n",
       "      <td>NEUMANN, Paul</td>\n",
       "      <td>400m freestyle</td>\n",
       "      <td>Gold</td>\n",
       "    </tr>\n",
       "    <tr>\n",
       "      <th>13</th>\n",
       "      <td>Athletics</td>\n",
       "      <td>BURKE, Thomas</td>\n",
       "      <td>100m</td>\n",
       "      <td>Gold</td>\n",
       "    </tr>\n",
       "    <tr>\n",
       "      <th>...</th>\n",
       "      <td>...</td>\n",
       "      <td>...</td>\n",
       "      <td>...</td>\n",
       "      <td>...</td>\n",
       "    </tr>\n",
       "    <tr>\n",
       "      <th>29199</th>\n",
       "      <td>Wrestling Gre-R</td>\n",
       "      <td>GUENOT, Steeve</td>\n",
       "      <td>60 - 66kg</td>\n",
       "      <td>Gold</td>\n",
       "    </tr>\n",
       "    <tr>\n",
       "      <th>29203</th>\n",
       "      <td>Wrestling Gre-R</td>\n",
       "      <td>KVIRKELIA, Manuchar</td>\n",
       "      <td>66 - 74kg</td>\n",
       "      <td>Gold</td>\n",
       "    </tr>\n",
       "    <tr>\n",
       "      <th>29206</th>\n",
       "      <td>Wrestling Gre-R</td>\n",
       "      <td>MINGUZZI, Andrea</td>\n",
       "      <td>74 - 84kg</td>\n",
       "      <td>Gold</td>\n",
       "    </tr>\n",
       "    <tr>\n",
       "      <th>29210</th>\n",
       "      <td>Wrestling Gre-R</td>\n",
       "      <td>KHUSHTOV, Aslanbek</td>\n",
       "      <td>84 - 96kg</td>\n",
       "      <td>Gold</td>\n",
       "    </tr>\n",
       "    <tr>\n",
       "      <th>29214</th>\n",
       "      <td>Wrestling Gre-R</td>\n",
       "      <td>LOPEZ, Mijain</td>\n",
       "      <td>96 - 120kg</td>\n",
       "      <td>Gold</td>\n",
       "    </tr>\n",
       "  </tbody>\n",
       "</table>\n",
       "<p>9850 rows × 4 columns</p>\n",
       "</div>"
      ],
      "text/plain": [
       "            Discipline              Athlete                       Event Medal\n",
       "0             Swimming        HAJOS, Alfred              100m freestyle  Gold\n",
       "3             Swimming   MALOKINIS, Ioannis  100m freestyle for sailors  Gold\n",
       "6             Swimming        HAJOS, Alfred             1200m freestyle  Gold\n",
       "9             Swimming        NEUMANN, Paul              400m freestyle  Gold\n",
       "13           Athletics        BURKE, Thomas                        100m  Gold\n",
       "...                ...                  ...                         ...   ...\n",
       "29199  Wrestling Gre-R       GUENOT, Steeve                   60 - 66kg  Gold\n",
       "29203  Wrestling Gre-R  KVIRKELIA, Manuchar                   66 - 74kg  Gold\n",
       "29206  Wrestling Gre-R     MINGUZZI, Andrea                   74 - 84kg  Gold\n",
       "29210  Wrestling Gre-R   KHUSHTOV, Aslanbek                   84 - 96kg  Gold\n",
       "29214  Wrestling Gre-R        LOPEZ, Mijain                  96 - 120kg  Gold\n",
       "\n",
       "[9850 rows x 4 columns]"
      ]
     },
     "execution_count": 7,
     "metadata": {},
     "output_type": "execute_result"
    }
   ],
   "source": [
    "goldMedals = Multiple_columns[(Multiple_columns.Medal == 'Gold')] #filter gold \n",
    "goldMedals #display the result"
   ]
  },
  {
   "cell_type": "markdown",
   "id": "similar-borough",
   "metadata": {},
   "source": [
    "What Athlete won the most Medals?  Is there a way quickly list Athlete names along with the number of Medals they won?\n",
    "LATYNINA, Larisa(18) won the highest medals followed by PHELPS, Michael(16) and ANDRIANOV, Nikolay(15)"
   ]
  },
  {
   "cell_type": "code",
   "execution_count": 8,
   "id": "spread-condition",
   "metadata": {},
   "outputs": [
    {
     "data": {
      "text/plain": [
       "Athlete             \n",
       "LATYNINA, Larisa        18\n",
       "PHELPS, Michael         16\n",
       "ANDRIANOV, Nikolay      15\n",
       "ONO, Takashi            13\n",
       "MANGIAROTTI, Edoardo    13\n",
       "dtype: int64"
      ]
     },
     "execution_count": 8,
     "metadata": {},
     "output_type": "execute_result"
    }
   ],
   "source": [
    "Athlete_names = df[['Athlete']]  #Selction of column\n",
    "Athlete_counts = Athlete_names.value_counts() #Count of medals\n",
    "Athlete_counts.head() #display top 5 rows"
   ]
  },
  {
   "cell_type": "code",
   "execution_count": 9,
   "id": "major-occasions",
   "metadata": {},
   "outputs": [
    {
     "data": {
      "text/plain": [
       "'LATYNINA, Larisa'"
      ]
     },
     "execution_count": 9,
     "metadata": {},
     "output_type": "execute_result"
    }
   ],
   "source": [
    "max_name = list(Athlete_counts.idxmax()) #name of the athlete who has highest medals\n",
    "Name = (\", \".join(max_name)) # replace comma with black and remove tuple\n",
    "Name #declare name"
   ]
  },
  {
   "cell_type": "markdown",
   "id": "bizarre-repair",
   "metadata": {},
   "source": [
    "What Disciplines, Events and Editions did the Athlete with the most Medals participate in? \n"
   ]
  },
  {
   "cell_type": "code",
   "execution_count": 10,
   "id": "substantial-western",
   "metadata": {},
   "outputs": [
    {
     "data": {
      "text/html": [
       "<div>\n",
       "<style scoped>\n",
       "    .dataframe tbody tr th:only-of-type {\n",
       "        vertical-align: middle;\n",
       "    }\n",
       "\n",
       "    .dataframe tbody tr th {\n",
       "        vertical-align: top;\n",
       "    }\n",
       "\n",
       "    .dataframe thead th {\n",
       "        text-align: right;\n",
       "    }\n",
       "</style>\n",
       "<table border=\"1\" class=\"dataframe\">\n",
       "  <thead>\n",
       "    <tr style=\"text-align: right;\">\n",
       "      <th></th>\n",
       "      <th>Discipline</th>\n",
       "      <th>Event</th>\n",
       "      <th>Edition</th>\n",
       "      <th>Athlete</th>\n",
       "    </tr>\n",
       "  </thead>\n",
       "  <tbody>\n",
       "    <tr>\n",
       "      <th>9445</th>\n",
       "      <td>Artistic G.</td>\n",
       "      <td>floor exercises</td>\n",
       "      <td>1956</td>\n",
       "      <td>LATYNINA, Larisa</td>\n",
       "    </tr>\n",
       "    <tr>\n",
       "      <th>9453</th>\n",
       "      <td>Artistic G.</td>\n",
       "      <td>individual all-round</td>\n",
       "      <td>1956</td>\n",
       "      <td>LATYNINA, Larisa</td>\n",
       "    </tr>\n",
       "    <tr>\n",
       "      <th>9493</th>\n",
       "      <td>Artistic G.</td>\n",
       "      <td>team competition</td>\n",
       "      <td>1956</td>\n",
       "      <td>LATYNINA, Larisa</td>\n",
       "    </tr>\n",
       "    <tr>\n",
       "      <th>9507</th>\n",
       "      <td>Artistic G.</td>\n",
       "      <td>team, portable apparatus</td>\n",
       "      <td>1956</td>\n",
       "      <td>LATYNINA, Larisa</td>\n",
       "    </tr>\n",
       "    <tr>\n",
       "      <th>9528</th>\n",
       "      <td>Artistic G.</td>\n",
       "      <td>uneven bars</td>\n",
       "      <td>1956</td>\n",
       "      <td>LATYNINA, Larisa</td>\n",
       "    </tr>\n",
       "    <tr>\n",
       "      <th>9534</th>\n",
       "      <td>Artistic G.</td>\n",
       "      <td>vault</td>\n",
       "      <td>1956</td>\n",
       "      <td>LATYNINA, Larisa</td>\n",
       "    </tr>\n",
       "    <tr>\n",
       "      <th>10353</th>\n",
       "      <td>Artistic G.</td>\n",
       "      <td>balance beam</td>\n",
       "      <td>1960</td>\n",
       "      <td>LATYNINA, Larisa</td>\n",
       "    </tr>\n",
       "    <tr>\n",
       "      <th>10358</th>\n",
       "      <td>Artistic G.</td>\n",
       "      <td>floor exercises</td>\n",
       "      <td>1960</td>\n",
       "      <td>LATYNINA, Larisa</td>\n",
       "    </tr>\n",
       "    <tr>\n",
       "      <th>10367</th>\n",
       "      <td>Artistic G.</td>\n",
       "      <td>individual all-round</td>\n",
       "      <td>1960</td>\n",
       "      <td>LATYNINA, Larisa</td>\n",
       "    </tr>\n",
       "    <tr>\n",
       "      <th>10405</th>\n",
       "      <td>Artistic G.</td>\n",
       "      <td>team competition</td>\n",
       "      <td>1960</td>\n",
       "      <td>LATYNINA, Larisa</td>\n",
       "    </tr>\n",
       "    <tr>\n",
       "      <th>10417</th>\n",
       "      <td>Artistic G.</td>\n",
       "      <td>uneven bars</td>\n",
       "      <td>1960</td>\n",
       "      <td>LATYNINA, Larisa</td>\n",
       "    </tr>\n",
       "    <tr>\n",
       "      <th>10421</th>\n",
       "      <td>Artistic G.</td>\n",
       "      <td>vault</td>\n",
       "      <td>1960</td>\n",
       "      <td>LATYNINA, Larisa</td>\n",
       "    </tr>\n",
       "    <tr>\n",
       "      <th>11268</th>\n",
       "      <td>Artistic G.</td>\n",
       "      <td>balance beam</td>\n",
       "      <td>1964</td>\n",
       "      <td>LATYNINA, Larisa</td>\n",
       "    </tr>\n",
       "    <tr>\n",
       "      <th>11275</th>\n",
       "      <td>Artistic G.</td>\n",
       "      <td>floor exercises</td>\n",
       "      <td>1964</td>\n",
       "      <td>LATYNINA, Larisa</td>\n",
       "    </tr>\n",
       "    <tr>\n",
       "      <th>11286</th>\n",
       "      <td>Artistic G.</td>\n",
       "      <td>individual all-round</td>\n",
       "      <td>1964</td>\n",
       "      <td>LATYNINA, Larisa</td>\n",
       "    </tr>\n",
       "    <tr>\n",
       "      <th>11322</th>\n",
       "      <td>Artistic G.</td>\n",
       "      <td>team competition</td>\n",
       "      <td>1964</td>\n",
       "      <td>LATYNINA, Larisa</td>\n",
       "    </tr>\n",
       "    <tr>\n",
       "      <th>11332</th>\n",
       "      <td>Artistic G.</td>\n",
       "      <td>uneven bars</td>\n",
       "      <td>1964</td>\n",
       "      <td>LATYNINA, Larisa</td>\n",
       "    </tr>\n",
       "    <tr>\n",
       "      <th>11339</th>\n",
       "      <td>Artistic G.</td>\n",
       "      <td>vault</td>\n",
       "      <td>1964</td>\n",
       "      <td>LATYNINA, Larisa</td>\n",
       "    </tr>\n",
       "  </tbody>\n",
       "</table>\n",
       "</div>"
      ],
      "text/plain": [
       "        Discipline                     Event  Edition           Athlete\n",
       "9445   Artistic G.           floor exercises     1956  LATYNINA, Larisa\n",
       "9453   Artistic G.      individual all-round     1956  LATYNINA, Larisa\n",
       "9493   Artistic G.          team competition     1956  LATYNINA, Larisa\n",
       "9507   Artistic G.  team, portable apparatus     1956  LATYNINA, Larisa\n",
       "9528   Artistic G.               uneven bars     1956  LATYNINA, Larisa\n",
       "9534   Artistic G.                     vault     1956  LATYNINA, Larisa\n",
       "10353  Artistic G.              balance beam     1960  LATYNINA, Larisa\n",
       "10358  Artistic G.           floor exercises     1960  LATYNINA, Larisa\n",
       "10367  Artistic G.      individual all-round     1960  LATYNINA, Larisa\n",
       "10405  Artistic G.          team competition     1960  LATYNINA, Larisa\n",
       "10417  Artistic G.               uneven bars     1960  LATYNINA, Larisa\n",
       "10421  Artistic G.                     vault     1960  LATYNINA, Larisa\n",
       "11268  Artistic G.              balance beam     1964  LATYNINA, Larisa\n",
       "11275  Artistic G.           floor exercises     1964  LATYNINA, Larisa\n",
       "11286  Artistic G.      individual all-round     1964  LATYNINA, Larisa\n",
       "11322  Artistic G.          team competition     1964  LATYNINA, Larisa\n",
       "11332  Artistic G.               uneven bars     1964  LATYNINA, Larisa\n",
       "11339  Artistic G.                     vault     1964  LATYNINA, Larisa"
      ]
     },
     "execution_count": 10,
     "metadata": {},
     "output_type": "execute_result"
    }
   ],
   "source": [
    "small_df = df[['Discipline', 'Event', 'Edition','Athlete']] #Selction of columns\n",
    "result = small_df[(small_df['Athlete'] == Name)] # filter for the most Medals participate\n",
    "result #declare output"
   ]
  },
  {
   "cell_type": "markdown",
   "id": "sixth-puzzle",
   "metadata": {},
   "source": [
    "How many of each Medal types did the Athlete with the most Medals win? \n",
    "Gold - 9, Silver - 5 & Bronze - 4"
   ]
  },
  {
   "cell_type": "code",
   "execution_count": 11,
   "id": "legislative-infection",
   "metadata": {},
   "outputs": [
    {
     "data": {
      "text/plain": [
       "Medal   Athlete         \n",
       "Gold    LATYNINA, Larisa    9\n",
       "Silver  LATYNINA, Larisa    5\n",
       "Bronze  LATYNINA, Larisa    4\n",
       "dtype: int64"
      ]
     },
     "execution_count": 11,
     "metadata": {},
     "output_type": "execute_result"
    }
   ],
   "source": [
    "small_df = df[['Medal','Athlete']] # Selction of columns\n",
    "result = small_df[(small_df['Athlete'] == Name)] #filter for name\n",
    "result.value_counts() #count the medal types"
   ]
  },
  {
   "cell_type": "markdown",
   "id": "pursuant-wonder",
   "metadata": {},
   "source": [
    "How many more Medals were awarded in 2000 vs. 1900? 1,503"
   ]
  },
  {
   "cell_type": "code",
   "execution_count": 12,
   "id": "helpful-arrest",
   "metadata": {
    "scrolled": true
   },
   "outputs": [
    {
     "name": "stdout",
     "output_type": "stream",
     "text": [
      "Medal      1503\n",
      "Edition    1503\n",
      "dtype: int64\n"
     ]
    }
   ],
   "source": [
    "small_df = df[['Medal','Edition']] # Selction of columns\n",
    "filter_1900 = small_df[(small_df['Edition'] == 1900)] #filter for edition 1900\n",
    "filter_2000 = small_df[(small_df['Edition'] == 2000)] #filter for edition 2000\n",
    "print(filter_2000.count() - filter_1900.count()) #print absolute difference between 2000 and 1900 "
   ]
  },
  {
   "cell_type": "markdown",
   "id": "conventional-comparison",
   "metadata": {},
   "source": [
    "How many medals awarded for each Aquatic Sport Discipline in 2008? 347 "
   ]
  },
  {
   "cell_type": "code",
   "execution_count": 13,
   "id": "exterior-demonstration",
   "metadata": {},
   "outputs": [
    {
     "data": {
      "text/plain": [
       "Sport     Edition  Discipline     \n",
       "Aquatics  2008     Swimming           200\n",
       "                   Water polo          78\n",
       "                   Diving              36\n",
       "                   Synchronized S.     33\n",
       "dtype: int64"
      ]
     },
     "execution_count": 13,
     "metadata": {},
     "output_type": "execute_result"
    }
   ],
   "source": [
    "selection_option = df[['Sport','Edition','Discipline']] # Selction of columns\n",
    "Aquatics_2008 = selection_option[(selection_option['Edition'] == 2008) & (selection_option['Sport'] == 'Aquatics')] # filter based on criteria\n",
    "Aquatics_2008.value_counts() # count values based on the selection"
   ]
  },
  {
   "cell_type": "markdown",
   "id": "forty-management",
   "metadata": {},
   "source": [
    "Plot a pie chart of Sport values for the 1896 Edition"
   ]
  },
  {
   "cell_type": "code",
   "execution_count": 14,
   "id": "killing-frost",
   "metadata": {},
   "outputs": [
    {
     "name": "stdout",
     "output_type": "stream",
     "text": [
      "Gymnastics       45\n",
      "Athletics        37\n",
      "Cycling          16\n",
      "Shooting         15\n",
      "Aquatics         11\n",
      "Tennis           10\n",
      "Fencing           8\n",
      "Weightlifting     6\n",
      "Wrestling         3\n",
      "Name: Sport, dtype: int64\n"
     ]
    },
    {
     "data": {
      "image/png": "[encoded data removed]",
      "text/plain": [
       "<Figure size 432x288 with 1 Axes>"
      ]
     },
     "metadata": {},
     "output_type": "display_data"
    }
   ],
   "source": [
    "import matplotlib.pyplot as plt #imfort visualisation library\n",
    "filter_1896 = df[df.Edition == 1896] #filter for year 1960\n",
    "print(filter_1896['Sport'].value_counts()) #Print count of sports\n",
    "my_data = filter_1896['Sport'].value_counts() #declare count of sports in my_data\n",
    "my_labels = filter_1896['Sport'].unique() #unique elements of sports\n",
    "plt.pie(my_data,labels=my_labels,autopct='%1.1f%%', startangle=15, shadow = True) #plot the graph\n",
    "plt.title('Sport values for the 1896 Edition') #naming the title \n",
    "plt.axis('equal') #adjusting the axis\n",
    "plt.show() #show the graph"
   ]
  },
  {
   "cell_type": "markdown",
   "id": "seeing-pontiac",
   "metadata": {},
   "source": [
    "Summarize total number of Gold, Silver and Bronze medals won in 1960 by each NOC"
   ]
  },
  {
   "cell_type": "code",
   "execution_count": 15,
   "id": "psychological-picture",
   "metadata": {},
   "outputs": [
    {
     "data": {
      "text/plain": [
       "NOC  Medal \n",
       "ARG  Bronze     1\n",
       "     Silver     3\n",
       "AUS  Bronze     9\n",
       "     Gold      10\n",
       "     Silver    17\n",
       "Name: Medal, dtype: int64"
      ]
     },
     "execution_count": 15,
     "metadata": {},
     "output_type": "execute_result"
    }
   ],
   "source": [
    "filter_1960 = df[df.Edition == 1960] #filter for year 1960\n",
    "NOC_grps = filter_1960.groupby(['NOC', 'Medal']) #groupby NOC and Medal\n",
    "NOC_grps['Medal'].count().head() #count of medal by NOC and Medal type and display top 5 rows"
   ]
  },
  {
   "cell_type": "code",
   "execution_count": 16,
   "id": "after-shepherd",
   "metadata": {},
   "outputs": [
    {
     "data": {
      "text/html": [
       "<div>\n",
       "<style scoped>\n",
       "    .dataframe tbody tr th:only-of-type {\n",
       "        vertical-align: middle;\n",
       "    }\n",
       "\n",
       "    .dataframe tbody tr th {\n",
       "        vertical-align: top;\n",
       "    }\n",
       "\n",
       "    .dataframe thead th {\n",
       "        text-align: right;\n",
       "    }\n",
       "</style>\n",
       "<table border=\"1\" class=\"dataframe\">\n",
       "  <thead>\n",
       "    <tr style=\"text-align: right;\">\n",
       "      <th>Medal</th>\n",
       "      <th>Bronze</th>\n",
       "      <th>Gold</th>\n",
       "      <th>Silver</th>\n",
       "      <th>Total</th>\n",
       "    </tr>\n",
       "    <tr>\n",
       "      <th>NOC</th>\n",
       "      <th></th>\n",
       "      <th></th>\n",
       "      <th></th>\n",
       "      <th></th>\n",
       "    </tr>\n",
       "  </thead>\n",
       "  <tbody>\n",
       "    <tr>\n",
       "      <th>URS</th>\n",
       "      <td>45.0</td>\n",
       "      <td>61.0</td>\n",
       "      <td>63.0</td>\n",
       "      <td>169.0</td>\n",
       "    </tr>\n",
       "    <tr>\n",
       "      <th>USA</th>\n",
       "      <td>21.0</td>\n",
       "      <td>68.0</td>\n",
       "      <td>23.0</td>\n",
       "      <td>112.0</td>\n",
       "    </tr>\n",
       "    <tr>\n",
       "      <th>ITA</th>\n",
       "      <td>34.0</td>\n",
       "      <td>36.0</td>\n",
       "      <td>18.0</td>\n",
       "      <td>88.0</td>\n",
       "    </tr>\n",
       "    <tr>\n",
       "      <th>EUA</th>\n",
       "      <td>21.0</td>\n",
       "      <td>34.0</td>\n",
       "      <td>33.0</td>\n",
       "      <td>88.0</td>\n",
       "    </tr>\n",
       "    <tr>\n",
       "      <th>HUN</th>\n",
       "      <td>36.0</td>\n",
       "      <td>13.0</td>\n",
       "      <td>16.0</td>\n",
       "      <td>65.0</td>\n",
       "    </tr>\n",
       "    <tr>\n",
       "      <th>AUS</th>\n",
       "      <td>9.0</td>\n",
       "      <td>10.0</td>\n",
       "      <td>17.0</td>\n",
       "      <td>36.0</td>\n",
       "    </tr>\n",
       "    <tr>\n",
       "      <th>POL</th>\n",
       "      <td>15.0</td>\n",
       "      <td>4.0</td>\n",
       "      <td>11.0</td>\n",
       "      <td>30.0</td>\n",
       "    </tr>\n",
       "  </tbody>\n",
       "</table>\n",
       "</div>"
      ],
      "text/plain": [
       "Medal  Bronze  Gold  Silver  Total\n",
       "NOC                               \n",
       "URS      45.0  61.0    63.0  169.0\n",
       "USA      21.0  68.0    23.0  112.0\n",
       "ITA      34.0  36.0    18.0   88.0\n",
       "EUA      21.0  34.0    33.0   88.0\n",
       "HUN      36.0  13.0    16.0   65.0\n",
       "AUS       9.0  10.0    17.0   36.0\n",
       "POL      15.0   4.0    11.0   30.0"
      ]
     },
     "execution_count": 16,
     "metadata": {},
     "output_type": "execute_result"
    }
   ],
   "source": [
    "NOC_grps = NOC_grps['Medal'].count().unstack() #swifting Medal from row to column\n",
    "NOC_grps = NOC_grps.fillna(0) #fill nan with zeros\n",
    "NOC_grps['Total'] = NOC_grps.sum(axis='columns') # Added new column 'total' \n",
    "NOCBy_Medal = NOC_grps.sort_values('Total', ascending=False) # Sort counted by the 'totals' column\n",
    "NOCBy_Medal.head(7)# display top 7 rows "
   ]
  }
 ],
 "metadata": {
  "kernelspec": {
   "display_name": "Python 3",
   "language": "python",
   "name": "python3"
  },
  "language_info": {
   "codemirror_mode": {
    "name": "ipython",
    "version": 3
   },
   "file_extension": ".py",
   "mimetype": "text/x-python",
   "name": "python",
   "nbconvert_exporter": "python",
   "pygments_lexer": "ipython3",
   "version": "3.9.1"
  }
 },
 "nbformat": 4,
 "nbformat_minor": 5
}
